{
 "cells": [
  {
   "cell_type": "code",
   "execution_count": 22,
   "metadata": {},
   "outputs": [
    {
     "name": "stdout",
     "output_type": "stream",
     "text": [
      "sorry! Tuli You guessed 2 but the random no is 10 so it didnt match\n"
     ]
    }
   ],
   "source": [
    "# Task 1\n",
    "import random\n",
    "num = random.randint(1, 10)\n",
    "\n",
    "user_name = input(\"What is your name?\")\n",
    "\n",
    "user_num = int(input(\"Guess a number between 1 and 10\"))\n",
    "\n",
    "if user_num == num:\n",
    "    print(\"well done!\", user_name, \"you guessed\",\n",
    "          user_num, \" which is the right answer\")\n",
    "else:\n",
    "    print(\"sorry!\", user_name, \"You guessed\", user_num,\n",
    "          \"but the random no is\", num, \"so it didnt match\")\n"
   ]
  },
  {
   "cell_type": "code",
   "execution_count": 20,
   "metadata": {},
   "outputs": [
    {
     "name": "stdout",
     "output_type": "stream",
     "text": [
      "Jokes 2\n"
     ]
    }
   ],
   "source": [
    "# Task 2\n",
    "# Write a program that asks a user for their favourite number between 1 and 100 and then tells them a joke based on the number. #You should use a minimum of 3 jokes.\n",
    "num = int(input(\" Please type your favourite no between 1 and 10 \"))\n",
    "\n",
    "if num == 1:\n",
    "        print(\"Why is\", num, \"scared of\", num+1, \"?\" \"becoz of\", num + 2)\n",
    "elif num == 2:\n",
    "       print(\"Jokes 2\")\n",
    "elif num == 3:\n",
    "        print(\"Jokes 3\")\n",
    "else:    \n",
    "        print(\" Not entitled for jokes- Count the sheeps\")\n",
    "          \n",
    "\n"
   ]
  },
  {
   "cell_type": "code",
   "execution_count": 21,
   "metadata": {},
   "outputs": [
    {
     "name": "stdout",
     "output_type": "stream",
     "text": [
      " Your favourite meal is: kebab Noodles vanila Ice Cream Coke\n"
     ]
    }
   ],
   "source": [
    "# Task 3\n",
    "# Write a program that allows user to enter their favourite starter, main course, dessert and drink.​\n",
    "# Concatenate these and output a message which says – “Your favourite meal is  ………with a glass of….”​\n",
    "\n",
    "starter = input(\"What is your favourite starter?\")\n",
    "\n",
    "main = input(\"What is your favourite main course?\")\n",
    "\n",
    "dessert = input(\"What is your favourite dessert?\")\n",
    "\n",
    "drink = input(\"What is your favourite drink?\")\n",
    "\n",
    "print(\" Your favourite meal is:\", starter +\n",
    "      \" \" + main + \" \" + dessert + \" \" + drink)\n"
   ]
  },
  {
   "cell_type": "code",
   "execution_count": 23,
   "metadata": {},
   "outputs": [
    {
     "name": "stdout",
     "output_type": "stream",
     "text": [
      "Value of bike after 1 year is: 1800.0\n",
      "Value of bike after 2 year is: 1620.0\n",
      "Value of bike after 3 year is: 1458.0\n",
      "Value of bike after 4 year is: 1312.2\n",
      "Value of bike after 5 year is: 1180.98\n",
      "Value of bike after 6 year is: 1062.882\n"
     ]
    }
   ],
   "source": [
    "# Task 4\n",
    "# A motorbike costs £2000 and loses 10% of its value every year. Using a loop, print the value of the bike every following year until it falls below £1000.​\n",
    "\n",
    "cost = 2000\n",
    "i = 1\n",
    "while cost >= 1000:\n",
    "    cost = cost - 0.10 * cost\n",
    "\n",
    "    if cost >= 1000:\n",
    "        print(\"Value of bike after\", i, \"year is:\", cost)\n",
    "    i += 1\n"
   ]
  },
  {
   "cell_type": "code",
   "execution_count": 25,
   "metadata": {},
   "outputs": [
    {
     "name": "stdout",
     "output_type": "stream",
     "text": [
      "You will have Pasta\n"
     ]
    }
   ],
   "source": [
    "# Task 5\n",
    "# Write a program which will ask for two numbers from a user. Then offer a menu to the user giving them a choice of operator:​\n",
    "# e.g. – Enter “a” if you want to add​\n",
    "#              “b” if you want to subtract\n",
    "\n",
    "# Include +, -, /, *, ** square (to the power of). Once the user has selected which operator they wish to use, perform the calculation.​\n",
    "\n",
    "num_first = int(input(\"Enter first number:1 for Food,2 for drink  \"))\n",
    "num_second = int(input(\"Enter second number :3 for snacks,4 for sweets\"))\n",
    "str_1 = input(\"Choose the operator  : + for Pasta,- for Pizza,\")\n",
    "if num_first == 1:\n",
    "    if str_1 == \"+\":\n",
    "        print(\"You will have Pasta\")\n",
    "    elif str_1 == \"-\":\n",
    "        print( \"You will have Pizza \")\n",
    "elif num_first == 2:\n",
    "    print(\" You will have Coke or Fanta\")\n",
    "elif num_second == 3:\n",
    "    print( \"You will have Snacks \")\n",
    "elif num_second == 4:\n",
    "    print( \"You will havesome sweets \")\n",
    "else:\n",
    "    print( \"Choose the correct option \")\n"
   ]
  },
  {
   "cell_type": "code",
   "execution_count": 24,
   "metadata": {},
   "outputs": [
    {
     "name": "stdout",
     "output_type": "stream",
     "text": [
      " You will have Coke or Fanta\n"
     ]
    }
   ],
   "source": [
    "# Task 5\n",
    "# Write a program which will ask for two numbers from a user. Then offer a menu to the user giving them a choice of operator:​\n",
    "# e.g. – Enter “a” if you want to add​\n",
    "#              “b” if you want to subtract\n",
    "\n",
    "# Include +, -, /, *, ** square (to the power of). Once the user has selected which operator they wish to use, perform the calculation.​\n",
    "\n",
    "num_first = int(input(\"Enter first number:1 for Food,2 for drink  \"))\n",
    "num_second = int(input(\"Enter second number :3 for snacks,4 for sweets\"))\n",
    "str_1 = input(\"Choose the operator  : + for Pasta,- for Pizza,\")\n",
    "if num_first == 1:\n",
    "    if str_1 == \"+\":\n",
    "        print(\"You will have Pasta\")\n",
    "    elif str_1 == \"-\":\n",
    "        print( \"You will have Pizza \")\n",
    "elif num_first == 2:\n",
    "    print(\" You will have Coke or Fanta\")\n",
    "elif num_second == 3:\n",
    "    print( \"You will have Snacks \")\n",
    "elif num_second == 4:\n",
    "    print( \"You will havesome sweets \")\n",
    "else:\n",
    "    print( \"Choose the correct option \")\n"
   ]
  },
  {
   "cell_type": "markdown",
   "metadata": {},
   "source": []
  },
  {
   "cell_type": "code",
   "execution_count": 26,
   "metadata": {},
   "outputs": [
    {
     "name": "stdout",
     "output_type": "stream",
     "text": [
      "You will have Pizza \n"
     ]
    }
   ],
   "source": [
    "# Task 5\n",
    "# Write a program which will ask for two numbers from a user. Then offer a menu to the user giving them a choice of operator:​\n",
    "# e.g. – Enter “a” if you want to add​\n",
    "#              “b” if you want to subtract\n",
    "\n",
    "# Include +, -, /, *, ** square (to the power of). Once the user has selected which operator they wish to use, perform the calculation.​\n",
    "\n",
    "num_first = int(input(\"Enter first number:1 for Food,2 for drink  \"))\n",
    "num_second = int(input(\"Enter second number :3 for snacks,4 for sweets\"))\n",
    "str_1 = input(\"Choose the operator  : + for Pasta,- for Pizza,\")\n",
    "if num_first == 1:\n",
    "    if str_1 == \"+\":\n",
    "        print(\"You will have Pasta\")\n",
    "    elif str_1 == \"-\":\n",
    "        print( \"You will have Pizza \")\n",
    "elif num_first == 2:\n",
    "    print(\" You will have Coke or Fanta\")\n",
    "elif num_second == 3:\n",
    "    print( \"You will have Snacks \")\n",
    "elif num_second == 4:\n",
    "    print( \"You will havesome sweets \")\n",
    "else:\n",
    "    print( \"Choose the correct option \")\n"
   ]
  }
 ],
 "metadata": {
  "interpreter": {
   "hash": "b7f090dfaa961a2ab91f88cc1bff6b3475ace4ff331a03562869f927f41cce79"
  },
  "kernelspec": {
   "display_name": "Python 3.9.7 ('base')",
   "language": "python",
   "name": "python3"
  },
  "language_info": {
   "codemirror_mode": {
    "name": "ipython",
    "version": 3
   },
   "file_extension": ".py",
   "mimetype": "text/x-python",
   "name": "python",
   "nbconvert_exporter": "python",
   "pygments_lexer": "ipython3",
   "version": "3.10.0"
  },
  "orig_nbformat": 4
 },
 "nbformat": 4,
 "nbformat_minor": 2
}
